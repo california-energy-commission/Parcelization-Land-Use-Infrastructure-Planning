{
 "cells": [
  {
   "cell_type": "code",
   "execution_count": 1,
   "metadata": {},
   "outputs": [],
   "source": [
    "import arcpy\n",
    "import pandas as pd\n",
    "from arcgis.gis import GIS\n",
    "import os"
   ]
  },
  {
   "cell_type": "code",
   "execution_count": 3,
   "metadata": {},
   "outputs": [],
   "source": [
    "arcpy.env.workspace = \"\\\\ParcelData_07_19_2022.gdb\\\\Parcels\"\n",
    "fc = arcpy.ListFeatureClasses()\n",
    "# each county parcel is in WKID 3857"
   ]
  },
  {
   "cell_type": "markdown",
   "metadata": {},
   "source": [
    "### Bring in prepared data"
   ]
  },
  {
   "cell_type": "code",
   "execution_count": 5,
   "metadata": {},
   "outputs": [],
   "source": [
    "#start with a solar Resource Potential Basemap, then\n",
    "# (1) Intersect the solar resource potential basemap with a feature class of California counties\n",
    "# (2) Buffer this result by 1/2 mile\n",
    "# (3) Because the original county and resource area maps are in WKID 3310, make a copy projected into WKID 3857 for intersection with full, original parcels data\n",
    "\n",
    "solarRPB_3857 = \"Parcelization_FullMethods.gdb\\\\TotalNewSolarRPB_IntCBuff_3857\" #output coordinate system 3857\n",
    "solarRPB_3310 = \"Parcelization_FullMethods.gdb\\\\TotalNewSolarRPB_IntCBuff\" #output coordinate system 3310\n",
    "counties = \"Parcelization_FullMethods.gdb\\\\Counties\" #3310\n",
    "\n",
    "# Parcels that overlap with more than 5 different APNs:\n",
    "# overlaps = \"Parcelization_FullMethods.gdb\\MergeAllParcelizationD_v1_CountOverlapGT5\"\n",
    "# The dataset above was created by running the entire parcelization calculation (Part 1 and Part 2) once, and running the 'Count Overlapping Features' ArcGIS Pro tool on the final parcelization map result. \n",
    "# Any feature with 5 or more overlaps is identified in the dataset above ('overlaps'). These areas (parcels) are then erased during the main geoprocessing steps\n",
    "# at the end of this script, where parcels needed to calculate parcelization within the resource potential basemap are grouped by county. \n",
    "# This step removes a very minor number of parcels, and results do not substatantially change by performing these steps.  \n"
   ]
  },
  {
   "cell_type": "code",
   "execution_count": 6,
   "metadata": {},
   "outputs": [],
   "source": [
    "countySDF = pd.DataFrame.spatial.from_featureclass(counties)"
   ]
  },
  {
   "cell_type": "markdown",
   "metadata": {},
   "source": [
    "### Create a dictionary of different naming conventions for identifying counties in datasets (ie 'ALPINE COUNTY' vs 'Alpine')"
   ]
  },
  {
   "cell_type": "code",
   "execution_count": 7,
   "metadata": {},
   "outputs": [],
   "source": [
    "#first create a dictionary relating county names between datasets\n",
    "countyList = []\n",
    "countyNameOnly = {}\n",
    "switchCtyNameOnly = {}\n",
    "for i in range(countySDF.shape[0]):\n",
    "    cntyName = countySDF.iloc[i].NAME\n",
    "    countyList.append(cntyName)\n",
    "    partsCN = cntyName.split(' ')[:-1]\n",
    "    merge = ''\n",
    "    \n",
    "    for i in range(len(partsCN)):\n",
    "        merge = merge+partsCN[i]\n",
    "    merge = merge.upper()\n",
    "    countyNameOnly[cntyName] = merge\n",
    "    switchCtyNameOnly[merge] = cntyName\n",
    "# write this dictionary that enables link between differenty ways of writing each county to a file to be read in part 2\n",
    "pd.DataFrame.from_dict(switchCtyNameOnly,orient='index').to_excel('CountyList.xlsx') "
   ]
  },
  {
   "cell_type": "markdown",
   "metadata": {},
   "source": [
    "### Geoprocessing to create a dictionary relating every county to its neighboring county"
   ]
  },
  {
   "cell_type": "code",
   "execution_count": 9,
   "metadata": {},
   "outputs": [],
   "source": [
    "# Select the county within the Solar Resource Potential Basemap Buffer/County Intersected dataset (SolarRPB_3310)\n",
    "# Clip the original counties dataset by this buffered county (central county).  \n",
    "# Get the names of the counties that were clipped by the buffered county (so it will be the main county, as well as any adjacent counties that are within 1/2 mile of a resource potential area)\n",
    "# For each main/central county, record all the adjacent counties whose parcels will need to be included in the parcelization calculation for the main county\n",
    "RPB_BufCty_Intersect = {}\n",
    "for county in countyList:\n",
    "    tmpOut = \"FinalParcelizationMap.gdb\\\\tmpSel\"\n",
    "    whereClause = \"NAME = \"+\"'\"+county+ \"'\"\n",
    "    arcpy.analysis.Select(solarRPB_3310, tmpOut, whereClause)\n",
    "    \n",
    "    tmpOut2 = \"FinalParcelizationMap.gdb\\\\tmpClip\"\n",
    "    arcpy.analysis.Clip(counties,tmpOut,tmpOut2)\n",
    "    \n",
    "    allCounties = []\n",
    "    for row in arcpy.da.SearchCursor(tmpOut2,['NAME']):\n",
    "        allCounties.append(row[0])\n",
    "    \n",
    "    RPB_BufCty_Intersect[county] = allCounties\n",
    "    \n",
    "    \n",
    "    \n",
    "    \n",
    "    "
   ]
  },
  {
   "cell_type": "markdown",
   "metadata": {},
   "source": [
    "## Reduce parcels for each county to area neaded to perform parcelization calculation \n",
    "#### Includes areas within 1/2 mile buffer of neighboring counties "
   ]
  },
  {
   "cell_type": "code",
   "execution_count": 12,
   "metadata": {},
   "outputs": [
    {
     "name": "stdout",
     "output_type": "stream",
     "text": [
      "Alameda County\n",
      "Alpine County\n",
      "Amador County\n",
      "Butte County\n",
      "Calaveras County\n",
      "Colusa County\n",
      "Contra Costa County\n",
      "Del Norte County\n",
      "El Dorado County\n",
      "Fresno County\n",
      "Glenn County\n",
      "Humboldt County\n",
      "Imperial County\n",
      "Inyo County\n",
      "Kern County\n",
      "Kings County\n",
      "Lake County\n",
      "Lassen County\n",
      "Los Angeles County\n",
      "Madera County\n",
      "Marin County\n",
      "Mariposa County\n",
      "Mendocino County\n",
      "Merced County\n",
      "Modoc County\n",
      "Mono County\n",
      "Monterey County\n",
      "Napa County\n",
      "Nevada County\n",
      "Orange County\n",
      "Placer County\n",
      "Plumas County\n",
      "Riverside County\n",
      "Sacramento County\n",
      "San Benito County\n",
      "San Bernardino County\n",
      "San Diego County\n",
      "San Francisco County\n",
      "San Joaquin County\n",
      "San Luis Obispo County\n",
      "San Mateo County\n",
      "Santa Barbara County\n",
      "Santa Clara County\n",
      "Santa Cruz County\n",
      "Shasta County\n",
      "Sierra County\n",
      "Siskiyou County\n",
      "Solano County\n",
      "Sonoma County\n",
      "Stanislaus County\n",
      "Sutter County\n",
      "Tehama County\n",
      "Trinity County\n",
      "Tulare County\n",
      "Tuolumne County\n",
      "Ventura County\n",
      "Yolo County\n",
      "Yuba County\n"
     ]
    }
   ],
   "source": [
    "baseParcels = \"ParcelData_07_19_2022.gdb\\\\Parcels\"\n",
    "for county in countyList:\n",
    "#     list of counties that border this county that has resource potential within 0.5 miles\n",
    "#     These counties will be clipped and merged to create the parcelization footprint\n",
    "    tmpOut = \"FinalParcelizationMap.gdb\\\\tmpSel\"\n",
    "    whereClause = \"NAME = \"+\"'\"+county+ \"'\"\n",
    "    arcpy.analysis.Select(solarRPB_3857, tmpOut, whereClause)  \n",
    "    \n",
    "    listMerge = RPB_BufCty_Intersect[county]\n",
    "    \n",
    "    storeTmpClips= []\n",
    "    for i in range(len(listMerge)):\n",
    "        cty = listMerge[i]\n",
    "        #construct name of parcels feature class\n",
    "        parcelsFC = baseParcels+\"\\\\\"+countyNameOnly[cty]+'_Parcels'\n",
    "        \n",
    "#         use buffered RPB from central county as clip on bordering counties\n",
    "        tmpOutClip = \"FinalParcelizationMap.gdb\\\\tmpClipP_\"+ str(i)\n",
    "        arcpy.analysis.Clip(parcelsFC,tmpOut,tmpOutClip)\n",
    "        \n",
    "        #Dissolve data by ParcelAPN\n",
    "        tmpOutDiss = \"FinalParcelizationMap.gdb\\\\tmpOutDiss_\"+str(i)\n",
    "        arcpy.management.Dissolve(tmpOutClip, tmpOutDiss,[\"PARCEL_APN\"])\n",
    "\n",
    "        #The next three lines are used in the second iteration of running the scripts when the overlapping parcels (greater than 5) will be removed\n",
    "#         #erase data by count overlaps greater than 5\n",
    "#         tmpOutErase = \"FinalParcelizationMap.gdb\\\\tmpOutErase_\"+str(i)\n",
    "#         arcpy.analysis.Erase(tmpOutDiss, overlaps, tmpOutErase)\n",
    "        \n",
    "        storeTmpClips.append(tmpOutDiss) #change to storeTmpClips.append(tmpOutErase) when running a second time to remove the overlapping parcels\n",
    "        \n",
    "    #Merge all parcels together (all tmpOutClip) \n",
    "    outMerge = \"Parcels_RPB.gdb\\\\\"+countyNameOnly[county]+'_RPBParcels'\n",
    "    addSourceInfo = \"ADD_SOURCE_INFO\"\n",
    "    \n",
    "    fieldmappings = arcpy.FieldMappings()\n",
    "    \n",
    "    for tmpFC in storeTmpClips:\n",
    "        fieldmappings.addTable(tmpFC)\n",
    "        \n",
    "    fieldmap = arcpy.FieldMap()    \n",
    "    for tmpFC in storeTmpClips:\n",
    "        fieldmap.addInputField(tmpFC, \"PARCEL_APN\")\n",
    "    \n",
    "    arcpy.management.Merge(storeTmpClips, outMerge, fieldmappings, addSourceInfo)\n",
    "    \n",
    "    \n",
    "        \n",
    "    \n",
    "    \n",
    "        \n",
    "    \n",
    "    \n",
    "    \n",
    "    "
   ]
  },
  {
   "cell_type": "code",
   "execution_count": null,
   "metadata": {},
   "outputs": [],
   "source": []
  }
 ],
 "metadata": {
  "kernelspec": {
   "display_name": "ArcGISPro",
   "language": "Python",
   "name": "python3"
  },
  "language_info": {
   "file_extension": ".py",
   "name": "python",
   "version": "3"
  }
 },
 "nbformat": 4,
 "nbformat_minor": 2
}
